{
  "nbformat": 4,
  "nbformat_minor": 0,
  "metadata": {
    "colab": {
      "provenance": []
    },
    "kernelspec": {
      "name": "python3",
      "display_name": "Python 3"
    },
    "language_info": {
      "name": "python"
    }
  },
  "cells": [
    {
      "cell_type": "code",
      "execution_count": 1,
      "metadata": {
        "colab": {
          "base_uri": "https://localhost:8080/"
        },
        "id": "R08yxGupNx10",
        "outputId": "51a052e5-b916-4ede-fa5d-29a7a62c19b7"
      },
      "outputs": [
        {
          "output_type": "stream",
          "name": "stdout",
          "text": [
            "[5, 8, 18, 29, 37, 41, 56, 63, 74, 92]\n"
          ]
        }
      ],
      "source": [
        "## 📌 Código comentado\n",
        "```python\n",
        "# Implementação do algoritmo Merge Sort em Python\n",
        "\n",
        "# Função principal do Merge Sort\n",
        "def merge_sort(lista):\n",
        "    n = len(lista)\n",
        "\n",
        "    # Caso base: listas de tamanho 0 ou 1 já estão ordenadas\n",
        "    if n <= 1:\n",
        "        return lista\n",
        "\n",
        "    # Encontrar o índice do meio\n",
        "    meio = n // 2\n",
        "\n",
        "    # Dividir a lista em duas partes\n",
        "    l1 = lista[0:meio]   # do início até o meio\n",
        "    l2 = lista[meio:n]   # do meio até o final\n",
        "\n",
        "    # Chamar recursivamente para ordenar as duas metades\n",
        "    l1 = merge_sort(l1)\n",
        "    l2 = merge_sort(l2)\n",
        "\n",
        "    # Mesclar as duas metades ordenadas\n",
        "    return mesclar(l1, l2)\n",
        "\n",
        "\n",
        "# Função para mesclar duas listas ordenadas em uma única lista ordenada\n",
        "def mesclar(a, b):\n",
        "    c = []\n",
        "\n",
        "    # Enquanto as duas listas tiverem elementos, compara e pega o menor\n",
        "    while len(a) > 0 and len(b) > 0:\n",
        "        if a[0] > b[0]:\n",
        "            c.append(b.pop(0))  # remove e adiciona o menor de b\n",
        "        else:\n",
        "            c.append(a.pop(0))  # remove e adiciona o menor de a\n",
        "\n",
        "    # Se sobrarem elementos em a, adiciona todos em c\n",
        "    while len(a) > 0:\n",
        "        c.append(a.pop(0))\n",
        "\n",
        "    # Se sobrarem elementos em b, adiciona todos em c\n",
        "    while len(b) > 0:\n",
        "        c.append(b.pop(0))\n",
        "\n",
        "    return c\n",
        "\n",
        "\n",
        "# Exemplo de lista desordenada\n",
        "lista_para_ordenar = [37, 5, 92, 18, 63, 74, 29, 8, 41, 56]\n",
        "\n",
        "# Chamada do algoritmo\n",
        "print(merge_sort(lista_para_ordenar))\n"
      ]
    }
  ]
}